{
 "cells": [
  {
   "cell_type": "code",
   "execution_count": 1,
   "metadata": {},
   "outputs": [],
   "source": [
    "import xarray as xr\n",
    "import numpy as np\n",
    "from affine import Affine\n",
    "import matplotlib.pyplot as plt"
   ]
  },
  {
   "cell_type": "code",
   "execution_count": 28,
   "metadata": {},
   "outputs": [
    {
     "name": "stdout",
     "output_type": "stream",
     "text": [
      "Using matplotlib backend: Qt5Agg\n"
     ]
    }
   ],
   "source": [
    "%matplotlib"
   ]
  },
  {
   "cell_type": "code",
   "execution_count": 78,
   "metadata": {},
   "outputs": [
    {
     "name": "stderr",
     "output_type": "stream",
     "text": [
      "/home/liyan/miniconda3/envs/myenv3/lib/python3.6/site-packages/xarray/conventions.py:362: SerializationWarning: variable 'sensor_zenith' has multiple fill values {-999.0, 32767}, decoding all values to NaN.\n",
      "  stack_char_dim=stack_char_dim)\n",
      "/home/liyan/miniconda3/envs/myenv3/lib/python3.6/site-packages/xarray/conventions.py:362: SerializationWarning: variable 'solar_zenith' has multiple fill values {-999.0, 32767}, decoding all values to NaN.\n",
      "  stack_char_dim=stack_char_dim)\n",
      "/home/liyan/miniconda3/envs/myenv3/lib/python3.6/site-packages/xarray/conventions.py:362: SerializationWarning: variable 'relative_azimuth' has multiple fill values {-999.0, 32767}, decoding all values to NaN.\n",
      "  stack_char_dim=stack_char_dim)\n",
      "/home/liyan/miniconda3/envs/myenv3/lib/python3.6/site-packages/xarray/conventions.py:362: SerializationWarning: variable 'reflectance_0.64_mc' has multiple fill values {-999.0, 32767}, decoding all values to NaN.\n",
      "  stack_char_dim=stack_char_dim)\n",
      "/home/liyan/miniconda3/envs/myenv3/lib/python3.6/site-packages/xarray/conventions.py:362: SerializationWarning: variable 'reflectance_cld_0.64_mc' has multiple fill values {-999.0, 32767}, decoding all values to NaN.\n",
      "  stack_char_dim=stack_char_dim)\n",
      "/home/liyan/miniconda3/envs/myenv3/lib/python3.6/site-packages/xarray/conventions.py:362: SerializationWarning: variable 'reflectance_cc_0.64_mc' has multiple fill values {-999.0, 32767}, decoding all values to NaN.\n",
      "  stack_char_dim=stack_char_dim)\n",
      "/home/liyan/miniconda3/envs/myenv3/lib/python3.6/site-packages/xarray/conventions.py:362: SerializationWarning: variable 'reflectance_3.9_mc' has multiple fill values {-999.0, 32767}, decoding all values to NaN.\n",
      "  stack_char_dim=stack_char_dim)\n",
      "/home/liyan/miniconda3/envs/myenv3/lib/python3.6/site-packages/xarray/conventions.py:362: SerializationWarning: variable 'emissivity_3.9_mc' has multiple fill values {-999.0, 32767}, decoding all values to NaN.\n",
      "  stack_char_dim=stack_char_dim)\n",
      "/home/liyan/miniconda3/envs/myenv3/lib/python3.6/site-packages/xarray/conventions.py:362: SerializationWarning: variable 'bt_3.9_mc' has multiple fill values {-999.0, 32767}, decoding all values to NaN.\n",
      "  stack_char_dim=stack_char_dim)\n",
      "/home/liyan/miniconda3/envs/myenv3/lib/python3.6/site-packages/xarray/conventions.py:362: SerializationWarning: variable 'radiance_6.8_mc' has multiple fill values {-999.0, 32767}, decoding all values to NaN.\n",
      "  stack_char_dim=stack_char_dim)\n",
      "/home/liyan/miniconda3/envs/myenv3/lib/python3.6/site-packages/xarray/conventions.py:362: SerializationWarning: variable 'bt_6.8_mc' has multiple fill values {-999.0, 32767}, decoding all values to NaN.\n",
      "  stack_char_dim=stack_char_dim)\n",
      "/home/liyan/miniconda3/envs/myenv3/lib/python3.6/site-packages/xarray/conventions.py:362: SerializationWarning: variable 'radiance_11_mc' has multiple fill values {-999.0, 32767}, decoding all values to NaN.\n",
      "  stack_char_dim=stack_char_dim)\n",
      "/home/liyan/miniconda3/envs/myenv3/lib/python3.6/site-packages/xarray/conventions.py:362: SerializationWarning: variable 'radiance_clr_11_mc' has multiple fill values {-999.0, 32767}, decoding all values to NaN.\n",
      "  stack_char_dim=stack_char_dim)\n",
      "/home/liyan/miniconda3/envs/myenv3/lib/python3.6/site-packages/xarray/conventions.py:362: SerializationWarning: variable 'bt_11_mc' has multiple fill values {-999.0, 32767}, decoding all values to NaN.\n",
      "  stack_char_dim=stack_char_dim)\n",
      "/home/liyan/miniconda3/envs/myenv3/lib/python3.6/site-packages/xarray/conventions.py:362: SerializationWarning: variable 'bt_13_mc' has multiple fill values {-999.0, 32767}, decoding all values to NaN.\n",
      "  stack_char_dim=stack_char_dim)\n",
      "/home/liyan/miniconda3/envs/myenv3/lib/python3.6/site-packages/xarray/conventions.py:362: SerializationWarning: variable 'ctt' has multiple fill values {-999.0, 32767}, decoding all values to NaN.\n",
      "  stack_char_dim=stack_char_dim)\n",
      "/home/liyan/miniconda3/envs/myenv3/lib/python3.6/site-packages/xarray/conventions.py:362: SerializationWarning: variable 'ctp' has multiple fill values {-999.0, 32767}, decoding all values to NaN.\n",
      "  stack_char_dim=stack_char_dim)\n",
      "/home/liyan/miniconda3/envs/myenv3/lib/python3.6/site-packages/xarray/conventions.py:362: SerializationWarning: variable 'cld_lwp' has multiple fill values {-999.0, 32767}, decoding all values to NaN.\n",
      "  stack_char_dim=stack_char_dim)\n",
      "/home/liyan/miniconda3/envs/myenv3/lib/python3.6/site-packages/xarray/conventions.py:362: SerializationWarning: variable 'cld_iwp' has multiple fill values {-999.0, 32767}, decoding all values to NaN.\n",
      "  stack_char_dim=stack_char_dim)\n",
      "/home/liyan/miniconda3/envs/myenv3/lib/python3.6/site-packages/xarray/conventions.py:362: SerializationWarning: variable 'cld_tau' has multiple fill values {-999.0, 32767}, decoding all values to NaN.\n",
      "  stack_char_dim=stack_char_dim)\n",
      "/home/liyan/miniconda3/envs/myenv3/lib/python3.6/site-packages/xarray/conventions.py:362: SerializationWarning: variable 'reff' has multiple fill values {-999.0, 32767}, decoding all values to NaN.\n",
      "  stack_char_dim=stack_char_dim)\n",
      "/home/liyan/miniconda3/envs/myenv3/lib/python3.6/site-packages/xarray/conventions.py:362: SerializationWarning: variable 'lst' has multiple fill values {-999.0, 32767}, decoding all values to NaN.\n",
      "  stack_char_dim=stack_char_dim)\n",
      "/home/liyan/miniconda3/envs/myenv3/lib/python3.6/site-packages/xarray/conventions.py:362: SerializationWarning: variable 'rt' has multiple fill values {-999.0, 32767}, decoding all values to NaN.\n",
      "  stack_char_dim=stack_char_dim)\n",
      "/home/liyan/miniconda3/envs/myenv3/lib/python3.6/site-packages/xarray/conventions.py:362: SerializationWarning: variable 'flux_swd_sfc' has multiple fill values {-999.0, 32767}, decoding all values to NaN.\n",
      "  stack_char_dim=stack_char_dim)\n",
      "/home/liyan/miniconda3/envs/myenv3/lib/python3.6/site-packages/xarray/conventions.py:362: SerializationWarning: variable 'flux_swu_sfc' has multiple fill values {-999.0, 32767}, decoding all values to NaN.\n",
      "  stack_char_dim=stack_char_dim)\n",
      "/home/liyan/miniconda3/envs/myenv3/lib/python3.6/site-packages/xarray/conventions.py:362: SerializationWarning: variable 'flux_swd_sfc_dif' has multiple fill values {-999.0, 32767}, decoding all values to NaN.\n",
      "  stack_char_dim=stack_char_dim)\n",
      "/home/liyan/miniconda3/envs/myenv3/lib/python3.6/site-packages/xarray/conventions.py:362: SerializationWarning: variable 'flux_swd_sfc_clr' has multiple fill values {-999.0, 32767}, decoding all values to NaN.\n",
      "  stack_char_dim=stack_char_dim)\n",
      "/home/liyan/miniconda3/envs/myenv3/lib/python3.6/site-packages/xarray/conventions.py:362: SerializationWarning: variable 'flux_swu_sfc_clr' has multiple fill values {-999.0, 32767}, decoding all values to NaN.\n",
      "  stack_char_dim=stack_char_dim)\n",
      "/home/liyan/miniconda3/envs/myenv3/lib/python3.6/site-packages/xarray/conventions.py:362: SerializationWarning: variable 'flux_paru_sfc_dif' has multiple fill values {-999.0, 32767}, decoding all values to NaN.\n",
      "  stack_char_dim=stack_char_dim)\n",
      "/home/liyan/miniconda3/envs/myenv3/lib/python3.6/site-packages/xarray/conventions.py:362: SerializationWarning: variable 'flux_swd_sfc_dif_clr' has multiple fill values {-999.0, 32767}, decoding all values to NaN.\n",
      "  stack_char_dim=stack_char_dim)\n",
      "/home/liyan/miniconda3/envs/myenv3/lib/python3.6/site-packages/xarray/conventions.py:362: SerializationWarning: variable 'flux_pard_sfc' has multiple fill values {-999.0, 32767}, decoding all values to NaN.\n",
      "  stack_char_dim=stack_char_dim)\n",
      "/home/liyan/miniconda3/envs/myenv3/lib/python3.6/site-packages/xarray/conventions.py:362: SerializationWarning: variable 'flux_pard_sfc_dif' has multiple fill values {-999.0, 32767}, decoding all values to NaN.\n",
      "  stack_char_dim=stack_char_dim)\n",
      "/home/liyan/miniconda3/envs/myenv3/lib/python3.6/site-packages/xarray/conventions.py:362: SerializationWarning: variable 'flux_pard_sfc_dif_clr' has multiple fill values {-999.0, 32767}, decoding all values to NaN.\n",
      "  stack_char_dim=stack_char_dim)\n",
      "/home/liyan/miniconda3/envs/myenv3/lib/python3.6/site-packages/xarray/conventions.py:362: SerializationWarning: variable 'flux_paru_sfc_dif_clr' has multiple fill values {-999.0, 32767}, decoding all values to NaN.\n",
      "  stack_char_dim=stack_char_dim)\n",
      "/home/liyan/miniconda3/envs/myenv3/lib/python3.6/site-packages/xarray/conventions.py:362: SerializationWarning: variable 'flux_swd_toa' has multiple fill values {-999.0, 32767}, decoding all values to NaN.\n",
      "  stack_char_dim=stack_char_dim)\n",
      "/home/liyan/miniconda3/envs/myenv3/lib/python3.6/site-packages/xarray/conventions.py:362: SerializationWarning: variable 'flux_swu_toa' has multiple fill values {-999.0, 32767}, decoding all values to NaN.\n",
      "  stack_char_dim=stack_char_dim)\n",
      "/home/liyan/miniconda3/envs/myenv3/lib/python3.6/site-packages/xarray/conventions.py:362: SerializationWarning: variable 'flux_swu_toa_clr' has multiple fill values {-999.0, 32767}, decoding all values to NaN.\n",
      "  stack_char_dim=stack_char_dim)\n",
      "/home/liyan/miniconda3/envs/myenv3/lib/python3.6/site-packages/xarray/conventions.py:362: SerializationWarning: variable 'flux_lwu_toa' has multiple fill values {-999.0, 32767}, decoding all values to NaN.\n",
      "  stack_char_dim=stack_char_dim)\n",
      "/home/liyan/miniconda3/envs/myenv3/lib/python3.6/site-packages/xarray/conventions.py:362: SerializationWarning: variable 'flux_lwd_sfc' has multiple fill values {-999.0, 32767}, decoding all values to NaN.\n",
      "  stack_char_dim=stack_char_dim)\n",
      "/home/liyan/miniconda3/envs/myenv3/lib/python3.6/site-packages/xarray/conventions.py:362: SerializationWarning: variable 'flux_lwu_sfc' has multiple fill values {-999.0, 32767}, decoding all values to NaN.\n",
      "  stack_char_dim=stack_char_dim)\n",
      "/home/liyan/miniconda3/envs/myenv3/lib/python3.6/site-packages/xarray/conventions.py:362: SerializationWarning: variable 'ozone_nwp' has multiple fill values {-999.0, 32767}, decoding all values to NaN.\n",
      "  stack_char_dim=stack_char_dim)\n",
      "/home/liyan/miniconda3/envs/myenv3/lib/python3.6/site-packages/xarray/conventions.py:362: SerializationWarning: variable 'tpw_nwp' has multiple fill values {-999.0, 32767}, decoding all values to NaN.\n",
      "  stack_char_dim=stack_char_dim)\n",
      "/home/liyan/miniconda3/envs/myenv3/lib/python3.6/site-packages/xarray/conventions.py:362: SerializationWarning: variable 'snow_ims' has multiple fill values {-999.0, 32767}, decoding all values to NaN.\n",
      "  stack_char_dim=stack_char_dim)\n"
     ]
    }
   ],
   "source": [
    "ds = xr.open_dataset('/home/liyan/Downloads/gsipL2_goes13_GEDISK_2014153_1145.nc.gz',decode_cf=True)[['cloud_mask','pixel_latitude','pixel_longitude']]"
   ]
  },
  {
   "cell_type": "code",
   "execution_count": 77,
   "metadata": {},
   "outputs": [],
   "source": [
    "# DOY 121 is 1st May\n",
    "# Load GOES V3 data and convert to 0.05 degree\n",
    "# fn is file name \n",
    "def load_to_globe(fn):\n",
    "    ds2 = xr.open_dataset(fn,decode_cf=True)[['cloud_mask','pixel_latitude','pixel_longitude']]\n",
    "    df = ds2[['pixel_latitude','pixel_longitude','cloud_mask']].to_dataframe().dropna()\n",
    "    \n",
    "    # Define Affine of 0.5 degree\n",
    "    a = Affine(0.05,0,-180,0,-0.05,90)\n",
    "    \n",
    "    # get col and row number\n",
    "    df['col'], df['row'] = ~a * (df['pixel_longitude'], df['pixel_latitude'])\n",
    "    \n",
    "    # need to floor to get integer col and row\n",
    "    df['col'] = df['col'].apply(np.floor).astype(int)\n",
    "    df['row'] = df['row'].apply(np.floor).astype(int)\n",
    "\n",
    "    temp = df.groupby(['row','col']).max().reset_index()\n",
    "    \n",
    "    c = np.empty((3600,7200,))\n",
    "    c[:] = np.nan\n",
    "    \n",
    "    c[temp['row'],temp['col']]=temp['cloud_mask']\n",
    "    return c"
   ]
  },
  {
   "cell_type": "code",
   "execution_count": 74,
   "metadata": {},
   "outputs": [],
   "source": [
    "cloud = load_to_globe('/home/liyan/Downloads/gsipL2_goes13_GENHEM_2014121_0045.nc')"
   ]
  },
  {
   "cell_type": "code",
   "execution_count": 76,
   "metadata": {},
   "outputs": [
    {
     "data": {
      "text/plain": [
       "<matplotlib.image.AxesImage at 0x7eff0d4e2860>"
      ]
     },
     "execution_count": 76,
     "metadata": {},
     "output_type": "execute_result"
    }
   ],
   "source": [
    "plt.imshow(cloud)\n"
   ]
  },
  {
   "cell_type": "code",
   "execution_count": 52,
   "metadata": {},
   "outputs": [
    {
     "data": {
      "text/plain": [
       "<matplotlib.image.AxesImage at 0x7eff1537b0f0>"
      ]
     },
     "execution_count": 52,
     "metadata": {},
     "output_type": "execute_result"
    }
   ],
   "source": [
    "plt.imshow(c)\n",
    "# plt.show()"
   ]
  },
  {
   "cell_type": "code",
   "execution_count": 54,
   "metadata": {},
   "outputs": [
    {
     "data": {
      "text/plain": [
       "<matplotlib.image.AxesImage at 0x7eff14dd0f98>"
      ]
     },
     "execution_count": 54,
     "metadata": {},
     "output_type": "execute_result"
    }
   ],
   "source": [
    "plt.figure()\n",
    "plt.imshow(c==0)\n"
   ]
  },
  {
   "cell_type": "code",
   "execution_count": 51,
   "metadata": {},
   "outputs": [
    {
     "data": {
      "text/plain": [
       "<matplotlib.colorbar.Colorbar at 0x7eff14de9588>"
      ]
     },
     "execution_count": 51,
     "metadata": {},
     "output_type": "execute_result"
    }
   ],
   "source": [
    "# ds2.cloud_mask\n",
    "plt.figure()\n",
    "plt.imshow(ds2.cloud_mask.data)\n",
    "plt.colorbar()"
   ]
  },
  {
   "cell_type": "code",
   "execution_count": 35,
   "metadata": {},
   "outputs": [],
   "source": []
  }
 ],
 "metadata": {
  "kernelspec": {
   "display_name": "Python 3",
   "language": "python",
   "name": "python3"
  },
  "language_info": {
   "codemirror_mode": {
    "name": "ipython",
    "version": 3
   },
   "file_extension": ".py",
   "mimetype": "text/x-python",
   "name": "python",
   "nbconvert_exporter": "python",
   "pygments_lexer": "ipython3",
   "version": "3.8.0"
  }
 },
 "nbformat": 4,
 "nbformat_minor": 2
}
